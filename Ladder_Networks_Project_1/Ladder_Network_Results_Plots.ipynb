{
 "cells": [
  {
   "cell_type": "code",
   "execution_count": 1,
   "metadata": {
    "collapsed": true
   },
   "outputs": [],
   "source": [
    "import numpy as np\n",
    "import matplotlib.pyplot as plt\n",
    "import pandas as pd\n",
    "\n",
    "%matplotlib inline"
   ]
  },
  {
   "cell_type": "code",
   "execution_count": null,
   "metadata": {
    "collapsed": true
   },
   "outputs": [],
   "source": []
  },
  {
   "cell_type": "markdown",
   "metadata": {},
   "source": [
    "## First make a table of all the final test results with 100 labeled points for LN, Base, and CNN"
   ]
  },
  {
   "cell_type": "code",
   "execution_count": null,
   "metadata": {
    "collapsed": true
   },
   "outputs": [],
   "source": [
    "            #  mnist, sleep\n",
    "input_table = [[ 22.8%,  48.0% ],    #  baseline\n",
    "               [ 11.4%,  54.6% ],    #  cnn\n",
    "               [ 63.8%,   52.3%]]    #  ladder network\n",
    "\n"
   ]
  },
  {
   "cell_type": "code",
   "execution_count": null,
   "metadata": {
    "collapsed": true
   },
   "outputs": [],
   "source": []
  },
  {
   "cell_type": "code",
   "execution_count": null,
   "metadata": {
    "collapsed": true
   },
   "outputs": [],
   "source": []
  },
  {
   "cell_type": "code",
   "execution_count": null,
   "metadata": {
    "collapsed": true
   },
   "outputs": [],
   "source": []
  },
  {
   "cell_type": "code",
   "execution_count": null,
   "metadata": {
    "collapsed": true
   },
   "outputs": [],
   "source": []
  },
  {
   "cell_type": "markdown",
   "metadata": {},
   "source": [
    "##  Second plot the final results of each number of labels for each model type..... do this once for MNIST and once for Sleep"
   ]
  },
  {
   "cell_type": "code",
   "execution_count": 2,
   "metadata": {
    "collapsed": false
   },
   "outputs": [],
   "source": [
    "# I ran all for the same amount of time, about 15 mins, calibrated the number of epochs \n",
    "#  etc, does not represent totally accuracy but you can see trajectories and large\n",
    "#  differences forming\n",
    "\n",
    "#  mnist,             0,    10,    50,  100,  200,  500,   1000,  5000, 10000,  all\n",
    "input_table_mnist = [[ 9.2, 14.9, 18.8, 22.8, 33.0, 49.67,  61.6, 72.1, 78.1,  85.1],    \n",
    "                     [  9.8,    10.1,   10.3, 11.4, 10.3, 10.3, 11.4,  42.3, 89.3, 94.7],\n",
    "                     [ 6.0, 23.5, 47.1, 63.8, 69.1,  78.5,  85.2,  92.2, 93.7,  97.2]]    "
   ]
  },
  {
   "cell_type": "code",
   "execution_count": 3,
   "metadata": {
    "collapsed": false
   },
   "outputs": [],
   "source": [
    "T = [0, 10, 50, 100, 200, 500, 1000, 5000, 10000, 55000]"
   ]
  },
  {
   "cell_type": "code",
   "execution_count": 5,
   "metadata": {
    "collapsed": false
   },
   "outputs": [
    {
     "data": {
      "text/plain": [
       "<matplotlib.text.Text at 0x7fe3a7724cd0>"
      ]
     },
     "execution_count": 5,
     "metadata": {},
     "output_type": "execute_result"
    },
    {
     "data": {
      "image/png": "[encoded data removed]",
      "text/plain": [
       "<matplotlib.figure.Figure at 0x7fe3ad329890>"
      ]
     },
     "metadata": {},
     "output_type": "display_data"
    }
   ],
   "source": [
    "plt.plot(T, input_table_mnist[0], label=\"Baseline\")\n",
    "plt.plot(T, input_table_mnist[1], label=\"CNN\")\n",
    "plt.plot(T, input_table_mnist[2], label=\"LadderNetwork\")\n",
    "plt.xlim(0, 10000)\n",
    "plt.legend()\n",
    "plt.xlabel(\"Number of Labeled Instances\")\n",
    "plt.ylabel(\"Accuracy\")\n",
    "plt.title(\"Accuracy With Labeled Set Size, MNIST\")"
   ]
  },
  {
   "cell_type": "code",
   "execution_count": null,
   "metadata": {
    "collapsed": true
   },
   "outputs": [],
   "source": []
  },
  {
   "cell_type": "code",
   "execution_count": 6,
   "metadata": {
    "collapsed": true
   },
   "outputs": [],
   "source": [
    "T = [10, 100, 1000, 5000, 10000]"
   ]
  },
  {
   "cell_type": "code",
   "execution_count": 7,
   "metadata": {
    "collapsed": false
   },
   "outputs": [],
   "source": [
    "\n",
    "#  mnist,              10,    100,  1000,  5000  all\n",
    "input_table_sleep = [[ 48.0, 48.0, 50.8, 52.5, 55.2],\n",
    "                     [ 54.6, 54.6, 54.6 ,55.8,56.9],   \n",
    "                     [ 43.3, 52.3, 54.6, 54.4, 54.4]]    "
   ]
  },
  {
   "cell_type": "code",
   "execution_count": 8,
   "metadata": {
    "collapsed": false
   },
   "outputs": [
    {
     "data": {
      "text/plain": [
       "<matplotlib.text.Text at 0x7fe3a7680b90>"
      ]
     },
     "execution_count": 8,
     "metadata": {},
     "output_type": "execute_result"
    },
    {
     "data": {
      "image/png": "[encoded data removed]",
      "text/plain": [
       "<matplotlib.figure.Figure at 0x7fe3a77750d0>"
      ]
     },
     "metadata": {},
     "output_type": "display_data"
    }
   ],
   "source": [
    "plt.plot(T, input_table_sleep[0], label=\"Baseline\")\n",
    "plt.plot(T, input_table_sleep[1], label=\"CNN\")\n",
    "plt.plot(T, input_table_sleep[2], label=\"LadderNetwork\")\n",
    "plt.xlim(0, 10000)\n",
    "plt.legend()\n",
    "plt.xlabel(\"Number of Labeled Instances\")\n",
    "plt.ylabel(\"Accuracy\")\n",
    "plt.title(\"Accuracy With Labeled Set Size, SLEEP\")"
   ]
  },
  {
   "cell_type": "code",
   "execution_count": null,
   "metadata": {
    "collapsed": true
   },
   "outputs": [],
   "source": []
  },
  {
   "cell_type": "code",
   "execution_count": null,
   "metadata": {
    "collapsed": true
   },
   "outputs": [],
   "source": []
  },
  {
   "cell_type": "code",
   "execution_count": null,
   "metadata": {
    "collapsed": true
   },
   "outputs": [],
   "source": []
  }
 ],
 "metadata": {
  "kernelspec": {
   "display_name": "Python 3",
   "language": "python",
   "name": "python3"
  },
  "language_info": {
   "codemirror_mode": {
    "name": "ipython",
    "version": 3
   },
   "file_extension": ".py",
   "mimetype": "text/x-python",
   "name": "python",
   "nbconvert_exporter": "python",
   "pygments_lexer": "ipython3",
   "version": "3.6.0"
  }
 },
 "nbformat": 4,
 "nbformat_minor": 2
}
