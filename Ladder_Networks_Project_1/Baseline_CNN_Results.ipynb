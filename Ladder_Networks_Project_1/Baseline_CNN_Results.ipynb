{
 "cells": [
  {
   "cell_type": "code",
   "execution_count": 1,
   "metadata": {
    "collapsed": false
   },
   "outputs": [],
   "source": [
    "import tensorflow as tf\n",
    "import numpy as np\n",
    "import pandas as pd\n",
    "import matplotlib.pyplot as plt\n",
    "from sklearn.preprocessing import StandardScaler\n",
    "\n",
    "import numpy as np\n",
    "import tensorflow as tf\n",
    "from scipy.misc import imread, imresize, imsave, imshow\n",
    "# from imagenet_classes import class_names \n",
    "import matplotlib.pyplot as plt\n",
    "import json\n",
    "import pickle\n",
    "import os\n",
    "import re\n",
    "\n",
    "\n",
    "\n",
    "%matplotlib inline"
   ]
  },
  {
   "cell_type": "markdown",
   "metadata": {},
   "source": [
    "# Import"
   ]
  },
  {
   "cell_type": "code",
   "execution_count": 2,
   "metadata": {
    "collapsed": false
   },
   "outputs": [
    {
     "name": "stdout",
     "output_type": "stream",
     "text": [
      "Extracting MNIST_data/train-images-idx3-ubyte.gz\n",
      "Extracting MNIST_data/train-labels-idx1-ubyte.gz\n",
      "Extracting MNIST_data/t10k-images-idx3-ubyte.gz\n",
      "Extracting MNIST_data/t10k-labels-idx1-ubyte.gz\n"
     ]
    }
   ],
   "source": [
    "from tensorflow.examples.tutorials.mnist import input_data\n",
    "mnist = input_data.read_data_sets('MNIST_data', one_hot=True)"
   ]
  },
  {
   "cell_type": "markdown",
   "metadata": {},
   "source": [
    "# Clean"
   ]
  },
  {
   "cell_type": "code",
   "execution_count": 3,
   "metadata": {
    "collapsed": true
   },
   "outputs": [],
   "source": [
    "#  I need to reduce labels on mnist dataset for testing each pass"
   ]
  },
  {
   "cell_type": "code",
   "execution_count": 4,
   "metadata": {
    "collapsed": false
   },
   "outputs": [],
   "source": [
    "def keep_n_labels(passed_data, n):\n",
    "    data = np.copy(passed_data)\n",
    "    all_indexes = np.asarray(list(range(len(data))))\n",
    "    np.random.shuffle(all_indexes)\n",
    "    if n >= 1:\n",
    "        selected_indexes_to_set_to_0 = np.asarray(list(all_indexes[:-n]))\n",
    "    else:\n",
    "        selected_indexes_to_set_to_0 = np.asarray(list(all_indexes[:]))\n",
    "#     normal_indexes = np.asarray(list(all_indexes[-n:]))\n",
    "    data[selected_indexes_to_set_to_0] = np.zeros(data.shape[1])\n",
    "    return data\n"
   ]
  },
  {
   "cell_type": "code",
   "execution_count": 5,
   "metadata": {
    "collapsed": false
   },
   "outputs": [
    {
     "name": "stdout",
     "output_type": "stream",
     "text": [
      "0.0\n",
      "50.0\n",
      "500.0\n",
      "10.0\n",
      "10000.0\n",
      "55000.0\n"
     ]
    }
   ],
   "source": [
    "mnist_train_y_0_labeled = keep_n_labels(mnist.train.labels, 0)\n",
    "mnist_train_y_10_labeled = keep_n_labels(mnist.train.labels, 10)\n",
    "mnist_train_y_50_labeled = keep_n_labels(mnist.train.labels, 50)\n",
    "mnist_train_y_100_labeled = keep_n_labels(mnist.train.labels, 100)\n",
    "mnist_train_y_200_labeled = keep_n_labels(mnist.train.labels, 200)\n",
    "mnist_train_y_500_labeled = keep_n_labels(mnist.train.labels, 500)\n",
    "mnist_train_y_1000_labeled = keep_n_labels(mnist.train.labels, 1000)\n",
    "mnist_train_y_5000_labeled = keep_n_labels(mnist.train.labels, 5000)\n",
    "mnist_train_y_10000_labeled = keep_n_labels(mnist.train.labels, 10000)\n",
    "mnist_train_y_all_labeled = np.copy(mnist.train.labels)\n",
    "\n",
    "\n",
    "\n",
    "print(np.sum(mnist_train_y_0_labeled))\n",
    "print(np.sum(mnist_train_y_50_labeled))\n",
    "print(np.sum(mnist_train_y_500_labeled))\n",
    "print(np.sum(mnist_train_y_10_labeled))\n",
    "print(np.sum(mnist_train_y_10000_labeled))\n",
    "print(np.sum(mnist_train_y_all_labeled))\n"
   ]
  },
  {
   "cell_type": "code",
   "execution_count": null,
   "metadata": {
    "collapsed": true
   },
   "outputs": [],
   "source": []
  },
  {
   "cell_type": "code",
   "execution_count": null,
   "metadata": {
    "collapsed": true
   },
   "outputs": [],
   "source": []
  },
  {
   "cell_type": "code",
   "execution_count": null,
   "metadata": {
    "collapsed": true
   },
   "outputs": [],
   "source": []
  },
  {
   "cell_type": "code",
   "execution_count": 6,
   "metadata": {
    "collapsed": false
   },
   "outputs": [],
   "source": [
    "\"\"\"Define get next batch method\"\"\"\n",
    "current_index = 0\n",
    "current_data_shuffle_mat = None\n",
    "def get_next_batch(data, classes, num_to_select):\n",
    "    global current_index, current_data_shuffle_mat\n",
    "    #  shuffle with labels\n",
    "    if current_data_shuffle_mat is None or current_index + num_to_select >= len(data):\n",
    "        current_data_shuffle_mat =  np.asarray(zip(data, classes))\n",
    "        np.random.shuffle(current_data_shuffle_mat)\n",
    "        current_index = 0\n",
    "    \n",
    "    data_mat_selected = np.asarray(list(\\\n",
    "                        current_data_shuffle_mat[current_index: current_index + num_to_select,0]))\n",
    "    data_classes_selected = np.asarray(list(\\\n",
    "                        current_data_shuffle_mat[current_index: current_index + num_to_select,1]))\n",
    "    current_index += num_to_select\n",
    "    \n",
    "#     return data_mat_selected.astype(float), data_classes_selected.astype(float)\n",
    "    return data_mat_selected, data_classes_selected\n",
    "\n",
    "\n"
   ]
  },
  {
   "cell_type": "markdown",
   "metadata": {},
   "source": [
    "%timeit -n 10000 get_next_batch(mnist.train.images, mnist_train_y_10000_labeled, 2)\n",
    "10000 loops, best of 3: 11.1 µs per loop\n",
    "%timeit -n 100 get_next_batch_orig(mnist.train.images, mnist_train_y_10000_labeled, 2)\n",
    "100 loops, best of 3: 71.4 ms per loop\n",
    "%timeit -n 10000 mnist.train.next_batch(2)\n",
    "10000 loops, best of 3: 1.59 µs per loop"
   ]
  },
  {
   "cell_type": "code",
   "execution_count": null,
   "metadata": {
    "collapsed": false
   },
   "outputs": [],
   "source": []
  },
  {
   "cell_type": "code",
   "execution_count": null,
   "metadata": {
    "collapsed": true
   },
   "outputs": [],
   "source": []
  },
  {
   "cell_type": "code",
   "execution_count": null,
   "metadata": {
    "collapsed": true
   },
   "outputs": [],
   "source": []
  },
  {
   "cell_type": "code",
   "execution_count": null,
   "metadata": {
    "collapsed": true
   },
   "outputs": [],
   "source": []
  },
  {
   "cell_type": "code",
   "execution_count": null,
   "metadata": {
    "collapsed": true
   },
   "outputs": [],
   "source": []
  },
  {
   "cell_type": "code",
   "execution_count": null,
   "metadata": {
    "collapsed": true
   },
   "outputs": [],
   "source": []
  },
  {
   "cell_type": "code",
   "execution_count": null,
   "metadata": {
    "collapsed": true
   },
   "outputs": [],
   "source": []
  },
  {
   "cell_type": "code",
   "execution_count": null,
   "metadata": {
    "collapsed": true
   },
   "outputs": [],
   "source": []
  },
  {
   "cell_type": "code",
   "execution_count": null,
   "metadata": {
    "collapsed": true
   },
   "outputs": [],
   "source": []
  },
  {
   "cell_type": "markdown",
   "metadata": {},
   "source": [
    "#  Import / Clean Sleep Cycle Data"
   ]
  },
  {
   "cell_type": "code",
   "execution_count": 7,
   "metadata": {
    "collapsed": true
   },
   "outputs": [],
   "source": [
    "is_5_mins = True\n",
    "\n",
    "train_original_df = pd.read_csv('/*****')\n",
    "#  choose validation set or test set\n",
    "valid_original_df = pd.read_csv('/*****')\n"
   ]
  },
  {
   "cell_type": "code",
   "execution_count": 8,
   "metadata": {
    "collapsed": false
   },
   "outputs": [
    {
     "name": "stdout",
     "output_type": "stream",
     "text": [
      "<class 'pandas.core.frame.DataFrame'>\n",
      "RangeIndex: 10127 entries, 0 to 10126\n",
      "Columns: 609 entries, time to userId\n",
      "dtypes: float64(607), int64(1), object(1)\n",
      "memory usage: 47.1+ MB\n",
      "None\n"
     ]
    },
    {
     "data": {
      "text/html": [
       "<div>\n",
       "<table border=\"1\" class=\"dataframe\">\n",
       "  <thead>\n",
       "    <tr style=\"text-align: right;\">\n",
       "      <th></th>\n",
       "      <th>time</th>\n",
       "      <th>hr0</th>\n",
       "      <th>hr1</th>\n",
       "      <th>hr2</th>\n",
       "      <th>hr3</th>\n",
       "      <th>hr4</th>\n",
       "      <th>hr5</th>\n",
       "      <th>hr6</th>\n",
       "      <th>hr7</th>\n",
       "      <th>hr8</th>\n",
       "      <th>...</th>\n",
       "      <th>ox298</th>\n",
       "      <th>ox299</th>\n",
       "      <th>Invalid</th>\n",
       "      <th>S4</th>\n",
       "      <th>S3</th>\n",
       "      <th>S2</th>\n",
       "      <th>S1</th>\n",
       "      <th>REM</th>\n",
       "      <th>W</th>\n",
       "      <th>userId</th>\n",
       "    </tr>\n",
       "  </thead>\n",
       "  <tbody>\n",
       "    <tr>\n",
       "      <th>0</th>\n",
       "      <td>0</td>\n",
       "      <td>84.013123</td>\n",
       "      <td>83.012131</td>\n",
       "      <td>82.011139</td>\n",
       "      <td>80.009155</td>\n",
       "      <td>80.009155</td>\n",
       "      <td>81.010147</td>\n",
       "      <td>82.011139</td>\n",
       "      <td>82.011139</td>\n",
       "      <td>83.012131</td>\n",
       "      <td>...</td>\n",
       "      <td>97.001602</td>\n",
       "      <td>98.002594</td>\n",
       "      <td>0.003333</td>\n",
       "      <td>0.0</td>\n",
       "      <td>0.0</td>\n",
       "      <td>0.0</td>\n",
       "      <td>0.0</td>\n",
       "      <td>0.0</td>\n",
       "      <td>0.996667</td>\n",
       "      <td>ins2</td>\n",
       "    </tr>\n",
       "    <tr>\n",
       "      <th>1</th>\n",
       "      <td>1</td>\n",
       "      <td>69.010452</td>\n",
       "      <td>70.011444</td>\n",
       "      <td>70.011444</td>\n",
       "      <td>70.011444</td>\n",
       "      <td>70.011444</td>\n",
       "      <td>70.011444</td>\n",
       "      <td>69.010452</td>\n",
       "      <td>70.011444</td>\n",
       "      <td>69.010452</td>\n",
       "      <td>...</td>\n",
       "      <td>97.001602</td>\n",
       "      <td>97.001602</td>\n",
       "      <td>0.000000</td>\n",
       "      <td>0.0</td>\n",
       "      <td>0.0</td>\n",
       "      <td>0.0</td>\n",
       "      <td>0.0</td>\n",
       "      <td>0.0</td>\n",
       "      <td>1.000000</td>\n",
       "      <td>ins2</td>\n",
       "    </tr>\n",
       "    <tr>\n",
       "      <th>2</th>\n",
       "      <td>2</td>\n",
       "      <td>77.006180</td>\n",
       "      <td>76.005188</td>\n",
       "      <td>77.006180</td>\n",
       "      <td>76.005188</td>\n",
       "      <td>77.006180</td>\n",
       "      <td>77.006180</td>\n",
       "      <td>77.006180</td>\n",
       "      <td>77.006180</td>\n",
       "      <td>78.007172</td>\n",
       "      <td>...</td>\n",
       "      <td>97.001602</td>\n",
       "      <td>97.001602</td>\n",
       "      <td>0.000000</td>\n",
       "      <td>0.0</td>\n",
       "      <td>0.0</td>\n",
       "      <td>0.0</td>\n",
       "      <td>0.0</td>\n",
       "      <td>0.0</td>\n",
       "      <td>1.000000</td>\n",
       "      <td>ins2</td>\n",
       "    </tr>\n",
       "    <tr>\n",
       "      <th>3</th>\n",
       "      <td>3</td>\n",
       "      <td>75.016403</td>\n",
       "      <td>75.016403</td>\n",
       "      <td>75.016403</td>\n",
       "      <td>76.005188</td>\n",
       "      <td>75.016403</td>\n",
       "      <td>75.016403</td>\n",
       "      <td>75.016403</td>\n",
       "      <td>75.016403</td>\n",
       "      <td>76.005188</td>\n",
       "      <td>...</td>\n",
       "      <td>97.001602</td>\n",
       "      <td>97.001602</td>\n",
       "      <td>0.000000</td>\n",
       "      <td>0.0</td>\n",
       "      <td>0.0</td>\n",
       "      <td>0.0</td>\n",
       "      <td>0.0</td>\n",
       "      <td>0.0</td>\n",
       "      <td>1.000000</td>\n",
       "      <td>ins2</td>\n",
       "    </tr>\n",
       "    <tr>\n",
       "      <th>4</th>\n",
       "      <td>4</td>\n",
       "      <td>72.013428</td>\n",
       "      <td>72.013428</td>\n",
       "      <td>73.014420</td>\n",
       "      <td>72.013428</td>\n",
       "      <td>73.014420</td>\n",
       "      <td>72.013428</td>\n",
       "      <td>73.014420</td>\n",
       "      <td>73.014420</td>\n",
       "      <td>72.013428</td>\n",
       "      <td>...</td>\n",
       "      <td>97.001602</td>\n",
       "      <td>97.001602</td>\n",
       "      <td>0.000000</td>\n",
       "      <td>0.0</td>\n",
       "      <td>0.0</td>\n",
       "      <td>0.0</td>\n",
       "      <td>0.0</td>\n",
       "      <td>0.0</td>\n",
       "      <td>1.000000</td>\n",
       "      <td>ins2</td>\n",
       "    </tr>\n",
       "  </tbody>\n",
       "</table>\n",
       "<p>5 rows × 609 columns</p>\n",
       "</div>"
      ],
      "text/plain": [
       "   time        hr0        hr1        hr2        hr3        hr4        hr5  \\\n",
       "0     0  84.013123  83.012131  82.011139  80.009155  80.009155  81.010147   \n",
       "1     1  69.010452  70.011444  70.011444  70.011444  70.011444  70.011444   \n",
       "2     2  77.006180  76.005188  77.006180  76.005188  77.006180  77.006180   \n",
       "3     3  75.016403  75.016403  75.016403  76.005188  75.016403  75.016403   \n",
       "4     4  72.013428  72.013428  73.014420  72.013428  73.014420  72.013428   \n",
       "\n",
       "         hr6        hr7        hr8   ...        ox298      ox299   Invalid  \\\n",
       "0  82.011139  82.011139  83.012131   ...    97.001602  98.002594  0.003333   \n",
       "1  69.010452  70.011444  69.010452   ...    97.001602  97.001602  0.000000   \n",
       "2  77.006180  77.006180  78.007172   ...    97.001602  97.001602  0.000000   \n",
       "3  75.016403  75.016403  76.005188   ...    97.001602  97.001602  0.000000   \n",
       "4  73.014420  73.014420  72.013428   ...    97.001602  97.001602  0.000000   \n",
       "\n",
       "    S4   S3   S2   S1  REM         W  userId  \n",
       "0  0.0  0.0  0.0  0.0  0.0  0.996667    ins2  \n",
       "1  0.0  0.0  0.0  0.0  0.0  1.000000    ins2  \n",
       "2  0.0  0.0  0.0  0.0  0.0  1.000000    ins2  \n",
       "3  0.0  0.0  0.0  0.0  0.0  1.000000    ins2  \n",
       "4  0.0  0.0  0.0  0.0  0.0  1.000000    ins2  \n",
       "\n",
       "[5 rows x 609 columns]"
      ]
     },
     "execution_count": 8,
     "metadata": {},
     "output_type": "execute_result"
    }
   ],
   "source": [
    "print(train_original_df.info())\n",
    "train_original_df.head()"
   ]
  },
  {
   "cell_type": "code",
   "execution_count": 9,
   "metadata": {
    "collapsed": false
   },
   "outputs": [
    {
     "name": "stdout",
     "output_type": "stream",
     "text": [
      "<class 'pandas.core.frame.DataFrame'>\n",
      "RangeIndex: 1253 entries, 0 to 1252\n",
      "Columns: 609 entries, time to userId\n",
      "dtypes: float64(607), int64(1), object(1)\n",
      "memory usage: 5.8+ MB\n",
      "None\n"
     ]
    },
    {
     "data": {
      "text/html": [
       "<div>\n",
       "<table border=\"1\" class=\"dataframe\">\n",
       "  <thead>\n",
       "    <tr style=\"text-align: right;\">\n",
       "      <th></th>\n",
       "      <th>time</th>\n",
       "      <th>hr0</th>\n",
       "      <th>hr1</th>\n",
       "      <th>hr2</th>\n",
       "      <th>hr3</th>\n",
       "      <th>hr4</th>\n",
       "      <th>hr5</th>\n",
       "      <th>hr6</th>\n",
       "      <th>hr7</th>\n",
       "      <th>hr8</th>\n",
       "      <th>...</th>\n",
       "      <th>ox298</th>\n",
       "      <th>ox299</th>\n",
       "      <th>Invalid</th>\n",
       "      <th>S4</th>\n",
       "      <th>S3</th>\n",
       "      <th>S2</th>\n",
       "      <th>S1</th>\n",
       "      <th>REM</th>\n",
       "      <th>W</th>\n",
       "      <th>userId</th>\n",
       "    </tr>\n",
       "  </thead>\n",
       "  <tbody>\n",
       "    <tr>\n",
       "      <th>0</th>\n",
       "      <td>0</td>\n",
       "      <td>83.076219</td>\n",
       "      <td>82.075227</td>\n",
       "      <td>82.075227</td>\n",
       "      <td>81.074235</td>\n",
       "      <td>81.074235</td>\n",
       "      <td>81.074235</td>\n",
       "      <td>81.074235</td>\n",
       "      <td>81.074235</td>\n",
       "      <td>81.074235</td>\n",
       "      <td>...</td>\n",
       "      <td>95.017929</td>\n",
       "      <td>95.017929</td>\n",
       "      <td>1.0</td>\n",
       "      <td>0.0</td>\n",
       "      <td>0.0</td>\n",
       "      <td>0.0</td>\n",
       "      <td>0.0</td>\n",
       "      <td>0.0</td>\n",
       "      <td>0.0</td>\n",
       "      <td>ins8</td>\n",
       "    </tr>\n",
       "    <tr>\n",
       "      <th>1</th>\n",
       "      <td>1</td>\n",
       "      <td>88.068971</td>\n",
       "      <td>88.068971</td>\n",
       "      <td>88.068971</td>\n",
       "      <td>88.068971</td>\n",
       "      <td>87.080186</td>\n",
       "      <td>86.079194</td>\n",
       "      <td>83.076219</td>\n",
       "      <td>81.074235</td>\n",
       "      <td>80.073243</td>\n",
       "      <td>...</td>\n",
       "      <td>94.018463</td>\n",
       "      <td>94.018463</td>\n",
       "      <td>1.0</td>\n",
       "      <td>0.0</td>\n",
       "      <td>0.0</td>\n",
       "      <td>0.0</td>\n",
       "      <td>0.0</td>\n",
       "      <td>0.0</td>\n",
       "      <td>0.0</td>\n",
       "      <td>ins8</td>\n",
       "    </tr>\n",
       "    <tr>\n",
       "      <th>2</th>\n",
       "      <td>2</td>\n",
       "      <td>75.083543</td>\n",
       "      <td>75.083543</td>\n",
       "      <td>75.083543</td>\n",
       "      <td>75.083543</td>\n",
       "      <td>74.082551</td>\n",
       "      <td>74.082551</td>\n",
       "      <td>74.082551</td>\n",
       "      <td>73.081559</td>\n",
       "      <td>73.081559</td>\n",
       "      <td>...</td>\n",
       "      <td>93.023575</td>\n",
       "      <td>93.023575</td>\n",
       "      <td>1.0</td>\n",
       "      <td>0.0</td>\n",
       "      <td>0.0</td>\n",
       "      <td>0.0</td>\n",
       "      <td>0.0</td>\n",
       "      <td>0.0</td>\n",
       "      <td>0.0</td>\n",
       "      <td>ins8</td>\n",
       "    </tr>\n",
       "    <tr>\n",
       "      <th>3</th>\n",
       "      <td>3</td>\n",
       "      <td>73.081559</td>\n",
       "      <td>74.082551</td>\n",
       "      <td>74.082551</td>\n",
       "      <td>75.083543</td>\n",
       "      <td>75.083543</td>\n",
       "      <td>75.083543</td>\n",
       "      <td>75.083543</td>\n",
       "      <td>74.082551</td>\n",
       "      <td>73.081559</td>\n",
       "      <td>...</td>\n",
       "      <td>93.023575</td>\n",
       "      <td>94.018463</td>\n",
       "      <td>1.0</td>\n",
       "      <td>0.0</td>\n",
       "      <td>0.0</td>\n",
       "      <td>0.0</td>\n",
       "      <td>0.0</td>\n",
       "      <td>0.0</td>\n",
       "      <td>0.0</td>\n",
       "      <td>ins8</td>\n",
       "    </tr>\n",
       "    <tr>\n",
       "      <th>4</th>\n",
       "      <td>4</td>\n",
       "      <td>78.071260</td>\n",
       "      <td>78.071260</td>\n",
       "      <td>79.072251</td>\n",
       "      <td>79.072251</td>\n",
       "      <td>79.072251</td>\n",
       "      <td>79.072251</td>\n",
       "      <td>79.072251</td>\n",
       "      <td>79.072251</td>\n",
       "      <td>80.073243</td>\n",
       "      <td>...</td>\n",
       "      <td>95.017929</td>\n",
       "      <td>95.017929</td>\n",
       "      <td>1.0</td>\n",
       "      <td>0.0</td>\n",
       "      <td>0.0</td>\n",
       "      <td>0.0</td>\n",
       "      <td>0.0</td>\n",
       "      <td>0.0</td>\n",
       "      <td>0.0</td>\n",
       "      <td>ins8</td>\n",
       "    </tr>\n",
       "  </tbody>\n",
       "</table>\n",
       "<p>5 rows × 609 columns</p>\n",
       "</div>"
      ],
      "text/plain": [
       "   time        hr0        hr1        hr2        hr3        hr4        hr5  \\\n",
       "0     0  83.076219  82.075227  82.075227  81.074235  81.074235  81.074235   \n",
       "1     1  88.068971  88.068971  88.068971  88.068971  87.080186  86.079194   \n",
       "2     2  75.083543  75.083543  75.083543  75.083543  74.082551  74.082551   \n",
       "3     3  73.081559  74.082551  74.082551  75.083543  75.083543  75.083543   \n",
       "4     4  78.071260  78.071260  79.072251  79.072251  79.072251  79.072251   \n",
       "\n",
       "         hr6        hr7        hr8   ...        ox298      ox299  Invalid  \\\n",
       "0  81.074235  81.074235  81.074235   ...    95.017929  95.017929      1.0   \n",
       "1  83.076219  81.074235  80.073243   ...    94.018463  94.018463      1.0   \n",
       "2  74.082551  73.081559  73.081559   ...    93.023575  93.023575      1.0   \n",
       "3  75.083543  74.082551  73.081559   ...    93.023575  94.018463      1.0   \n",
       "4  79.072251  79.072251  80.073243   ...    95.017929  95.017929      1.0   \n",
       "\n",
       "    S4   S3   S2   S1  REM    W  userId  \n",
       "0  0.0  0.0  0.0  0.0  0.0  0.0    ins8  \n",
       "1  0.0  0.0  0.0  0.0  0.0  0.0    ins8  \n",
       "2  0.0  0.0  0.0  0.0  0.0  0.0    ins8  \n",
       "3  0.0  0.0  0.0  0.0  0.0  0.0    ins8  \n",
       "4  0.0  0.0  0.0  0.0  0.0  0.0    ins8  \n",
       "\n",
       "[5 rows x 609 columns]"
      ]
     },
     "execution_count": 9,
     "metadata": {},
     "output_type": "execute_result"
    }
   ],
   "source": [
    "print(valid_original_df.info())\n",
    "valid_original_df.head()"
   ]
  },
  {
   "cell_type": "code",
   "execution_count": 10,
   "metadata": {
    "collapsed": true
   },
   "outputs": [],
   "source": [
    "def mean_center_data(passed_df):\n",
    "    \"\"\"Takes a train/test/validation set in format time, hr, ox, classes, userId and mean centered the\n",
    "    data for each user\"\"\"\n",
    "    \n",
    "    #  find mean ox and hr\n",
    "    mean_values_by_userId = []\n",
    "\n",
    "    for name, group in passed_df.groupby('userId'):  \n",
    "        if is_5_mins:\n",
    "            mean_hr = group.loc[:, 'hr0':'hr299'].as_matrix().mean()\n",
    "            mean_ox = group.loc[:, 'ox0':'ox299'].as_matrix().mean()\n",
    "        else:\n",
    "            mean_hr = group.loc[:, 'hr0':'hr59'].as_matrix().mean()\n",
    "            mean_ox = group.loc[:, 'ox0':'ox59'].as_matrix().mean()\n",
    "\n",
    "        mean_values_by_userId.append([name, mean_hr, mean_ox])\n",
    "        \n",
    "        \n",
    "    #  convert to dataframe\n",
    "    mean_values_by_userId = pd.DataFrame(mean_values_by_userId)\n",
    "    mean_values_by_userId.columns = ['userId', 'mean_hr', 'mean_ox']\n",
    "        \n",
    "        \n",
    "    #  merge with training/etc data, then mean center, then drop the mean values columns\n",
    "    mean_centered_df = pd.merge(passed_df, mean_values_by_userId, on='userId', how='left')\n",
    "    if is_5_mins:\n",
    "        mean_centered_df.loc[:, 'hr0':'hr299'] = mean_centered_df.loc[:, 'hr0':'hr299'].as_matrix() - \\\n",
    "                                                np.atleast_2d(mean_centered_df.loc[:, 'mean_hr'].as_matrix()).T\n",
    "        mean_centered_df.loc[:, 'ox0':'ox299'] = mean_centered_df.loc[:, 'ox0':'ox299'].as_matrix() - \\\n",
    "                                                np.atleast_2d(mean_centered_df.loc[:, 'mean_ox'].as_matrix()).T\n",
    "    else:\n",
    "        mean_centered_df.loc[:, 'hr0':'hr59'] = mean_centered_df.loc[:, 'hr0':'hr59'].as_matrix() - \\\n",
    "                                                np.atleast_2d(mean_centered_df.loc[:, 'mean_hr'].as_matrix()).T\n",
    "        mean_centered_df.loc[:, 'ox0':'ox59'] = mean_centered_df.loc[:, 'ox0':'ox59'].as_matrix() - \\\n",
    "                                                np.atleast_2d(mean_centered_df.loc[:, 'mean_ox'].as_matrix()).T\n",
    "\n",
    "\n",
    "    mean_centered_df.drop(['mean_hr','mean_ox'], axis=1, inplace=True)\n",
    "    return mean_centered_df"
   ]
  },
  {
   "cell_type": "code",
   "execution_count": 11,
   "metadata": {
    "collapsed": true
   },
   "outputs": [],
   "source": [
    "mean_centered_train_df = mean_center_data(train_original_df)\n",
    "mean_centered_valid_df = mean_center_data(valid_original_df)"
   ]
  },
  {
   "cell_type": "code",
   "execution_count": 12,
   "metadata": {
    "collapsed": false
   },
   "outputs": [
    {
     "data": {
      "text/html": [
       "<div>\n",
       "<table border=\"1\" class=\"dataframe\">\n",
       "  <thead>\n",
       "    <tr style=\"text-align: right;\">\n",
       "      <th></th>\n",
       "      <th>time</th>\n",
       "      <th>hr0</th>\n",
       "      <th>hr1</th>\n",
       "      <th>hr2</th>\n",
       "      <th>hr3</th>\n",
       "      <th>hr4</th>\n",
       "      <th>hr5</th>\n",
       "      <th>hr6</th>\n",
       "      <th>hr7</th>\n",
       "      <th>hr8</th>\n",
       "      <th>...</th>\n",
       "      <th>ox298</th>\n",
       "      <th>ox299</th>\n",
       "      <th>Invalid</th>\n",
       "      <th>S4</th>\n",
       "      <th>S3</th>\n",
       "      <th>S2</th>\n",
       "      <th>S1</th>\n",
       "      <th>REM</th>\n",
       "      <th>W</th>\n",
       "      <th>userId</th>\n",
       "    </tr>\n",
       "  </thead>\n",
       "  <tbody>\n",
       "    <tr>\n",
       "      <th>0</th>\n",
       "      <td>0</td>\n",
       "      <td>18.389260</td>\n",
       "      <td>17.388268</td>\n",
       "      <td>17.388268</td>\n",
       "      <td>16.387276</td>\n",
       "      <td>16.387276</td>\n",
       "      <td>16.387276</td>\n",
       "      <td>16.387276</td>\n",
       "      <td>16.387276</td>\n",
       "      <td>16.387276</td>\n",
       "      <td>...</td>\n",
       "      <td>2.978348</td>\n",
       "      <td>2.978348</td>\n",
       "      <td>1.0</td>\n",
       "      <td>0.0</td>\n",
       "      <td>0.0</td>\n",
       "      <td>0.0</td>\n",
       "      <td>0.0</td>\n",
       "      <td>0.0</td>\n",
       "      <td>0.0</td>\n",
       "      <td>ins8</td>\n",
       "    </tr>\n",
       "    <tr>\n",
       "      <th>1</th>\n",
       "      <td>1</td>\n",
       "      <td>23.382012</td>\n",
       "      <td>23.382012</td>\n",
       "      <td>23.382012</td>\n",
       "      <td>23.382012</td>\n",
       "      <td>22.393227</td>\n",
       "      <td>21.392235</td>\n",
       "      <td>18.389260</td>\n",
       "      <td>16.387276</td>\n",
       "      <td>15.386284</td>\n",
       "      <td>...</td>\n",
       "      <td>1.978882</td>\n",
       "      <td>1.978882</td>\n",
       "      <td>1.0</td>\n",
       "      <td>0.0</td>\n",
       "      <td>0.0</td>\n",
       "      <td>0.0</td>\n",
       "      <td>0.0</td>\n",
       "      <td>0.0</td>\n",
       "      <td>0.0</td>\n",
       "      <td>ins8</td>\n",
       "    </tr>\n",
       "  </tbody>\n",
       "</table>\n",
       "<p>2 rows × 609 columns</p>\n",
       "</div>"
      ],
      "text/plain": [
       "   time        hr0        hr1        hr2        hr3        hr4        hr5  \\\n",
       "0     0  18.389260  17.388268  17.388268  16.387276  16.387276  16.387276   \n",
       "1     1  23.382012  23.382012  23.382012  23.382012  22.393227  21.392235   \n",
       "\n",
       "         hr6        hr7        hr8   ...       ox298     ox299  Invalid   S4  \\\n",
       "0  16.387276  16.387276  16.387276   ...    2.978348  2.978348      1.0  0.0   \n",
       "1  18.389260  16.387276  15.386284   ...    1.978882  1.978882      1.0  0.0   \n",
       "\n",
       "    S3   S2   S1  REM    W  userId  \n",
       "0  0.0  0.0  0.0  0.0  0.0    ins8  \n",
       "1  0.0  0.0  0.0  0.0  0.0    ins8  \n",
       "\n",
       "[2 rows x 609 columns]"
      ]
     },
     "execution_count": 12,
     "metadata": {},
     "output_type": "execute_result"
    }
   ],
   "source": [
    "mean_centered_valid_df.head(2)"
   ]
  },
  {
   "cell_type": "code",
   "execution_count": 13,
   "metadata": {
    "collapsed": false
   },
   "outputs": [
    {
     "name": "stdout",
     "output_type": "stream",
     "text": [
      "<class 'pandas.core.frame.DataFrame'>\n",
      "Int64Index: 1253 entries, 0 to 1252\n",
      "Columns: 609 entries, time to userId\n",
      "dtypes: float64(607), int64(1), object(1)\n",
      "memory usage: 5.8+ MB\n"
     ]
    }
   ],
   "source": [
    "mean_centered_valid_df.info()"
   ]
  },
  {
   "cell_type": "code",
   "execution_count": 14,
   "metadata": {
    "collapsed": false
   },
   "outputs": [
    {
     "name": "stdout",
     "output_type": "stream",
     "text": [
      "<class 'pandas.core.frame.DataFrame'>\n",
      "Int64Index: 10127 entries, 0 to 10126\n",
      "Columns: 609 entries, time to userId\n",
      "dtypes: float64(607), int64(1), object(1)\n",
      "memory usage: 47.1+ MB\n"
     ]
    }
   ],
   "source": [
    "mean_centered_train_df.info()"
   ]
  },
  {
   "cell_type": "code",
   "execution_count": 15,
   "metadata": {
    "collapsed": true
   },
   "outputs": [],
   "source": [
    "#  find majority class labels\n",
    "\n",
    "\n",
    "#  remove class percent columns (6) at the end\n",
    "\n",
    "\n",
    "#  this section accounts for invalid entries. First it actively saves all valid classes as\n",
    "#  last_valid_class, then if any valid classes are encountered they are replaced with this \n",
    "#  last valid class value\n",
    "#  all users are linked together so values might be taken from the user before if they start out invalid\n",
    "#  this should be fairly infrequent though and to boot most users start and end in the wake state so it\n",
    "#  should be alright to link their values back to back like this\n",
    "\n",
    "\n",
    "\n",
    "last_valid_class = 0  #  this is the wake class, it's a fair to assume most start in the wake phase\n",
    "\n",
    "#  majority classes for train\n",
    "majority_classes_train = []\n",
    "for row in mean_centered_train_df.iloc[:,-8:-1].as_matrix():\n",
    "    #  4 classes DEEP(S4/S3), LIGHT(S2/S1), REM, W\n",
    "#     row = [row[0], row[1] + row[2], row[3] + row[4], row[5], row[6]]\n",
    "    #  3 classes DEEP, LIGHT (including REM), Wake\n",
    "    row = [row[0], row[1] + row[2], row[3] + row[4] + row[5], row[6]]\n",
    "    #  2 classes SLEEP, Wake\n",
    "#     row = [row[0], row[1] + row[2] + row[3] + row[4] + row[5], row[6]]\n",
    "\n",
    "\n",
    "    current_class = np.argmax(row) - 1\n",
    "    if current_class < 0:\n",
    "        current_class = last_valid_class\n",
    "    else:\n",
    "        last_valid_class = current_class\n",
    "    majority_classes_train.append(current_class)\n",
    "\n",
    "\n",
    "\n",
    "last_valid_class = 0  #  this is the wake class, it's a fair to assume most start in the wake phase\n",
    "\n",
    "#  majority classes for train\n",
    "majority_classes_valid = []\n",
    "for row in mean_centered_valid_df.iloc[:,-8:-1].as_matrix():\n",
    "    #  4 classes DEEP(S4/S3), LIGHT(S2/S1), REM, W\n",
    "#     row = [row[0], row[1] + row[2], row[3] + row[4], row[5], row[6]]\n",
    "    # 3 classes DEEP, LIGHT (including REM), Wake\n",
    "    row = [row[0], row[1] + row[2], row[3] + row[4] + row[5], row[6]]\n",
    "    #  2 classes SLEEP, Wake\n",
    "#     row = [row[0], row[1] + row[2] + row[3] + row[4] + row[5], row[6]]\n",
    "\n",
    "    \n",
    "    current_class = np.argmax(row) - 1\n",
    "    if current_class < 0:\n",
    "        current_class = last_valid_class\n",
    "    else:\n",
    "        last_valid_class = current_class\n",
    "    majority_classes_valid.append(current_class)\n",
    "\n"
   ]
  },
  {
   "cell_type": "code",
   "execution_count": 16,
   "metadata": {
    "collapsed": false
   },
   "outputs": [
    {
     "data": {
      "text/plain": [
       "array([1800, 6279, 2048])"
      ]
     },
     "execution_count": 16,
     "metadata": {},
     "output_type": "execute_result"
    }
   ],
   "source": [
    "#  check to make sure conversion worked (should see 3 for d,l,w etc)\n",
    "np.bincount(majority_classes_train)"
   ]
  },
  {
   "cell_type": "code",
   "execution_count": 17,
   "metadata": {
    "collapsed": false
   },
   "outputs": [
    {
     "data": {
      "text/plain": [
       "array([[  0.        ,  13.26134914,  12.26035714, ...,   0.79259893,\n",
       "          0.79259893,   1.79359093],\n",
       "       [  1.        ,  -1.74132186,  -0.74032986, ...,   0.79259893,\n",
       "          0.79259893,   0.79259893],\n",
       "       [  2.        ,   6.25440614,   5.25341414, ...,   0.79259893,\n",
       "          0.79259893,   0.79259893],\n",
       "       ..., \n",
       "       [ 93.        ,  10.38672983,  10.38672983, ...,   1.5138803 ,\n",
       "          1.5138803 ,   1.5138803 ],\n",
       "       [ 94.        ,   1.54526583,   0.63063183, ...,   0.6602223 ,\n",
       "          0.6602223 ,   0.6602223 ],\n",
       "       [ 95.        ,   9.47209483,  10.08185083, ...,   0.5382703 ,\n",
       "          0.6602223 ,   0.6602223 ]])"
      ]
     },
     "execution_count": 17,
     "metadata": {},
     "output_type": "execute_result"
    }
   ],
   "source": [
    "#  extract stardize shuffle\n",
    "\n",
    "#  extract data for train/valid\n",
    "\n",
    "#  include time (in n minute instances) since sleep began\n",
    "if is_5_mins:\n",
    "    train_original_mat = mean_centered_train_df.loc[:,'time':'ox299'].as_matrix()\n",
    "    valid_original_mat = mean_centered_valid_df.loc[:,'time':'ox299'].as_matrix()\n",
    "else:\n",
    "    train_original_mat = mean_centered_train_df.loc[:,'time':'ox59'].as_matrix()\n",
    "    valid_original_mat = mean_centered_valid_df.loc[:,'time':'ox59'].as_matrix()\n",
    "# train_original_mat = mean_centered_train_df.loc[:,'hr0':'ox299'].as_matrix()\n",
    "# valid_original_mat = mean_centered_valid_df.loc[:,'hr0':'ox299'].as_matrix()\n",
    "\n",
    "train_original_mat"
   ]
  },
  {
   "cell_type": "code",
   "execution_count": 18,
   "metadata": {
    "collapsed": false
   },
   "outputs": [],
   "source": [
    "#  standardize\n",
    "scaler = StandardScaler()\n",
    "scaler.fit(train_original_mat)\n",
    "train_std_mat = scaler.transform(train_original_mat)\n",
    "valid_std_mat = scaler.transform(valid_original_mat)"
   ]
  },
  {
   "cell_type": "code",
   "execution_count": 19,
   "metadata": {
    "collapsed": true
   },
   "outputs": [],
   "source": [
    "#  shuffle with labels\n",
    "train_shuffled_mat =  np.asarray(zip(train_std_mat, majority_classes_train))\n",
    "np.random.shuffle(train_shuffled_mat)\n",
    "valid_shuffled_mat =  np.asarray(zip(valid_std_mat, majority_classes_valid))\n",
    "np.random.shuffle(valid_shuffled_mat)\n",
    "\n",
    "train_mat = np.asarray(list(train_shuffled_mat[:,0]))\n",
    "train_classes = train_shuffled_mat[:,1]\n",
    "valid_mat = np.asarray(list(valid_shuffled_mat[:,0]))\n",
    "valid_classes = valid_shuffled_mat[:,1]"
   ]
  },
  {
   "cell_type": "code",
   "execution_count": 20,
   "metadata": {
    "collapsed": true
   },
   "outputs": [],
   "source": [
    "#  one hot encoded classes in case I need them\n",
    "\n",
    "#  TODO:  change this for OHE 6 , 4, then 3, 2\n",
    "\n",
    "train_classes_ohe = np.zeros((len(train_classes),3))\n",
    "for i,c in enumerate(train_classes):\n",
    "    train_classes_ohe[i,c] = 1.0\n",
    "    \n",
    "valid_classes_ohe = np.zeros((len(valid_classes),3))\n",
    "for i,c in enumerate(valid_classes):\n",
    "    valid_classes_ohe[i,c] = 1.0"
   ]
  },
  {
   "cell_type": "code",
   "execution_count": 21,
   "metadata": {
    "collapsed": false
   },
   "outputs": [
    {
     "data": {
      "text/plain": [
       "array([[ 0.,  1.,  0.],\n",
       "       [ 1.,  0.,  0.],\n",
       "       [ 0.,  1.,  0.],\n",
       "       ..., \n",
       "       [ 0.,  1.,  0.],\n",
       "       [ 0.,  0.,  1.],\n",
       "       [ 0.,  1.,  0.]])"
      ]
     },
     "execution_count": 21,
     "metadata": {},
     "output_type": "execute_result"
    }
   ],
   "source": [
    "train_classes_ohe"
   ]
  },
  {
   "cell_type": "code",
   "execution_count": 22,
   "metadata": {
    "collapsed": false
   },
   "outputs": [
    {
     "data": {
      "text/plain": [
       "(10127, 601)"
      ]
     },
     "execution_count": 22,
     "metadata": {},
     "output_type": "execute_result"
    }
   ],
   "source": [
    "train_std_mat.shape"
   ]
  },
  {
   "cell_type": "code",
   "execution_count": null,
   "metadata": {
    "collapsed": true
   },
   "outputs": [],
   "source": []
  },
  {
   "cell_type": "code",
   "execution_count": null,
   "metadata": {
    "collapsed": true
   },
   "outputs": [],
   "source": []
  },
  {
   "cell_type": "code",
   "execution_count": 23,
   "metadata": {
    "collapsed": false
   },
   "outputs": [
    {
     "name": "stdout",
     "output_type": "stream",
     "text": [
      "0.0\n",
      "50.0\n",
      "500.0\n",
      "10.0\n",
      "10000.0\n",
      "10127.0\n"
     ]
    }
   ],
   "source": [
    "sleep_train_y_0_labeled = keep_n_labels(train_classes_ohe, 0)\n",
    "sleep_train_y_10_labeled = keep_n_labels(train_classes_ohe, 10)\n",
    "sleep_train_y_50_labeled = keep_n_labels(train_classes_ohe, 50)\n",
    "sleep_train_y_100_labeled = keep_n_labels(train_classes_ohe, 100)\n",
    "sleep_train_y_200_labeled = keep_n_labels(train_classes_ohe, 200)\n",
    "sleep_train_y_500_labeled = keep_n_labels(train_classes_ohe, 500)\n",
    "sleep_train_y_1000_labeled = keep_n_labels(train_classes_ohe, 1000)\n",
    "sleep_train_y_5000_labeled = keep_n_labels(train_classes_ohe, 5000)\n",
    "sleep_train_y_10000_labeled = keep_n_labels(train_classes_ohe, 10000)\n",
    "sleep_train_y_all_labeled = np.copy(train_classes_ohe)\n",
    "\n",
    "\n",
    "\n",
    "print(np.sum(sleep_train_y_0_labeled))\n",
    "print(np.sum(sleep_train_y_50_labeled))\n",
    "print(np.sum(sleep_train_y_500_labeled))\n",
    "print(np.sum(sleep_train_y_10_labeled))\n",
    "print(np.sum(sleep_train_y_10000_labeled))\n",
    "print(np.sum(sleep_train_y_all_labeled))\n"
   ]
  },
  {
   "cell_type": "code",
   "execution_count": null,
   "metadata": {
    "collapsed": true
   },
   "outputs": [],
   "source": []
  },
  {
   "cell_type": "code",
   "execution_count": null,
   "metadata": {
    "collapsed": true
   },
   "outputs": [],
   "source": []
  },
  {
   "cell_type": "code",
   "execution_count": null,
   "metadata": {
    "collapsed": true
   },
   "outputs": [],
   "source": []
  },
  {
   "cell_type": "code",
   "execution_count": null,
   "metadata": {
    "collapsed": true
   },
   "outputs": [],
   "source": []
  },
  {
   "cell_type": "code",
   "execution_count": null,
   "metadata": {
    "collapsed": true
   },
   "outputs": [],
   "source": []
  },
  {
   "cell_type": "markdown",
   "metadata": {},
   "source": [
    "#  CNN model SLEEP"
   ]
  },
  {
   "cell_type": "code",
   "execution_count": 24,
   "metadata": {
    "collapsed": false,
    "scrolled": true
   },
   "outputs": [
    {
     "name": "stdout",
     "output_type": "stream",
     "text": [
      "(?, 3)\n",
      "step 0, train_loss 0.0221637\n",
      "step 0, validation accuracy 0.54589, loss 1.09834\n",
      "step 100, train_loss 0.000156121\n",
      "step 100, validation accuracy 0.54589, loss 1.096\n",
      "step 200, train_loss 0.000126327\n",
      "step 200, validation accuracy 0.54589, loss 1.09506\n",
      "step 300, train_loss 0.000102204\n",
      "step 300, validation accuracy 0.54589, loss 1.09261\n",
      "step 400, train_loss 8.36575e-05\n",
      "step 400, validation accuracy 0.54589, loss 1.09217\n",
      "step 500, train_loss 7.45613e-05\n",
      "step 500, validation accuracy 0.54589, loss 1.08699\n",
      "step 600, train_loss 5.38167e-05\n",
      "step 600, validation accuracy 0.54589, loss 1.09049\n",
      "step 700, train_loss 4.61535e-05\n",
      "step 700, validation accuracy 0.54589, loss 1.08931\n",
      "step 800, train_loss 3.9487e-05\n",
      "step 800, validation accuracy 0.54589, loss 1.08748\n",
      "step 900, train_loss 3.84626e-05\n",
      "step 900, validation accuracy 0.54589, loss 1.08354\n",
      "step 1000, train_loss 3.27797e-05\n",
      "step 1000, validation accuracy 0.54589, loss 1.085\n",
      "step 1100, train_loss 2.86436e-05\n",
      "step 1100, validation accuracy 0.54589, loss 1.08588\n",
      "step 1200, train_loss 3.11014e-05\n",
      "step 1200, validation accuracy 0.54589, loss 1.08274\n",
      "step 1300, train_loss 3.23605e-05\n",
      "step 1300, validation accuracy 0.54589, loss 1.07979\n",
      "step 1400, train_loss 3.65787e-05\n",
      "step 1400, validation accuracy 0.54589, loss 1.07431\n",
      "step 1500, train_loss 4.57002e-05\n",
      "step 1500, validation accuracy 0.54589, loss 1.0633\n",
      "step 1600, train_loss 3.07135e-05\n",
      "step 1600, validation accuracy 0.54589, loss 1.07569\n",
      "step 1700, train_loss 4.43078e-05\n",
      "step 1700, validation accuracy 0.54589, loss 1.06477\n",
      "step 1800, train_loss 2.82439e-05\n",
      "step 1800, validation accuracy 0.54589, loss 1.07634\n",
      "step 1900, train_loss 3.09208e-05\n",
      "step 1900, validation accuracy 0.54589, loss 1.07144\n",
      "step 2000, train_loss 4.72737e-05\n",
      "step 2000, validation accuracy 0.54589, loss 1.05978\n",
      "step 2100, train_loss 2.52283e-05\n",
      "step 2100, validation accuracy 0.54589, loss 1.07699\n",
      "step 2200, train_loss 4.19832e-05\n",
      "step 2200, validation accuracy 0.54589, loss 1.06297\n",
      "step 2300, train_loss 2.6506e-05\n",
      "step 2300, validation accuracy 0.54589, loss 1.07544\n",
      "step 2400, train_loss 4.57173e-05\n",
      "step 2400, validation accuracy 0.54589, loss 1.05877\n",
      "step 2500, train_loss 0.000102103\n",
      "step 2500, validation accuracy 0.54589, loss 1.04076\n",
      "step 2600, train_loss 0.00011176\n",
      "step 2600, validation accuracy 0.54589, loss 1.08494\n",
      "step 2700, train_loss 4.26829e-05\n",
      "step 2700, validation accuracy 0.54589, loss 1.05219\n",
      "step 2800, train_loss 4.35513e-05\n",
      "step 2800, validation accuracy 0.54589, loss 1.0515\n",
      "step 2900, train_loss 9.58296e-05\n",
      "step 2900, validation accuracy 0.54589, loss 1.03677\n",
      "step 3000, train_loss 4.55443e-05\n",
      "step 3000, validation accuracy 0.54589, loss 1.04991\n",
      "step 3100, train_loss 5.21591e-05\n",
      "step 3100, validation accuracy 0.54589, loss 1.0439\n",
      "step 3200, train_loss 4.8584e-05\n",
      "step 3200, validation accuracy 0.54589, loss 1.04748\n",
      "step 3300, train_loss 6.10209e-05\n",
      "step 3300, validation accuracy 0.54589, loss 1.03626\n",
      "step 3400, train_loss 5.37478e-05\n",
      "step 3400, validation accuracy 0.54589, loss 1.04228\n",
      "step 3500, train_loss 8.408e-05\n",
      "step 3500, validation accuracy 0.54589, loss 1.03486\n",
      "step 3600, train_loss 5.54474e-05\n",
      "step 3600, validation accuracy 0.54589, loss 1.03808\n",
      "step 3700, train_loss 5.08178e-05\n",
      "step 3700, validation accuracy 0.54589, loss 1.04395\n",
      "step 3800, train_loss 7.01742e-05\n",
      "step 3800, validation accuracy 0.54589, loss 1.0335\n",
      "step 3900, train_loss 5.34353e-05\n",
      "step 3900, validation accuracy 0.54589, loss 1.03811\n",
      "step 4000, train_loss 8.8439e-05\n",
      "step 4000, validation accuracy 0.54589, loss 1.03808\n",
      "step 4100, train_loss 6.15733e-05\n",
      "step 4100, validation accuracy 0.54589, loss 1.03681\n",
      "step 4200, train_loss 4.36659e-05\n",
      "step 4200, validation accuracy 0.54589, loss 1.04955\n",
      "step 4300, train_loss 0.0224163\n",
      "step 4300, validation accuracy 0.54589, loss 1.04774\n",
      "step 4400, train_loss 0.000109766\n",
      "step 4400, validation accuracy 0.54589, loss 1.08487\n",
      "step 4500, train_loss 8.00052e-05\n",
      "step 4500, validation accuracy 0.54589, loss 1.03743\n",
      "step 4600, train_loss 7.24334e-05\n",
      "step 4600, validation accuracy 0.54589, loss 1.0382\n",
      "step 4700, train_loss 4.92496e-05\n",
      "step 4700, validation accuracy 0.54589, loss 1.04371\n",
      "step 4800, train_loss 0.00014183\n",
      "step 4800, validation accuracy 0.54589, loss 1.243\n",
      "step 4900, train_loss 3.8774e-05\n",
      "step 4900, validation accuracy 0.54589, loss 1.05553\n",
      "test accuracy 0.54589\n"
     ]
    }
   ],
   "source": [
    "sess = tf.InteractiveSession()    \n",
    "   \n",
    "batch_size = 50\n",
    "    \n",
    "\n",
    "def max_pool_2x2(x):\n",
    "  return tf.nn.max_pool(x, ksize=[1, 2, 2, 1],\n",
    "                        strides=[1, 2, 2, 1], padding='SAME')\n",
    "\n",
    "def max_pool_4x4(x):\n",
    "  return tf.nn.max_pool(x, ksize=[1, 4, 4, 1],\n",
    "                        strides=[1, 4, 4, 1], padding='SAME')\n",
    "\n",
    "def conv2d(x, W):\n",
    "  return tf.nn.conv2d(x, W, strides=[1, 1, 1, 1], padding='SAME')    \n",
    "    \n",
    "def weight_variable(shape):\n",
    "  initial = tf.truncated_normal(shape, stddev=1e-4)\n",
    "  return tf.Variable(initial)\n",
    "\n",
    "def bias_variable(shape):\n",
    "  initial = tf.constant(0.1, shape=shape)\n",
    "  return tf.Variable(initial)\n",
    "\n",
    "\n",
    "\n",
    "\n",
    "\n",
    "\n",
    "\n",
    "\n",
    "with tf.name_scope('Wx_B') as scope:\n",
    "\n",
    "    \n",
    "    x = tf.placeholder(tf.float32, shape=[None, 560])\n",
    "    x_batch_size = tf.shape(x)[0]\n",
    "    y_ = tf.placeholder(tf.float32, shape=[None, 3])\n",
    "    x_image = tf.reshape(x, [-1,20,28,1])\n",
    "    #  this truncates the last value\n",
    "#     x_image = tf.image.resize_image_with_crop_or_pad(x_image_ut, 20,30) \n",
    "    \n",
    "    \n",
    "#     x = tf.placeholder(tf.float32, shape=[None, 784])\n",
    "#     x_batch_size = tf.shape(x)[0]\n",
    "#     y_ = tf.placeholder(tf.float32, shape=[None, 10])\n",
    "#     x_image = tf.reshape(x, [-1,28,28,1])\n",
    "\n",
    "    W_conv1_bnn1 = weight_variable([5, 5, 1, 32])\n",
    "    b_conv1_bnn1 = bias_variable([32])\n",
    "    h_conv1_bnn1 = tf.nn.relu(conv2d(x_image, W_conv1_bnn1) + b_conv1_bnn1)\n",
    "    h_pool1_bnn1 = max_pool_2x2(h_conv1_bnn1)\n",
    "\n",
    "    W_conv2_bnn1 = weight_variable([5, 5, 32, 40])\n",
    "    b_conv2_bnn1 = bias_variable([40])\n",
    "    h_conv2_bnn1 = tf.nn.relu(conv2d(h_pool1_bnn1, W_conv2_bnn1) + b_conv2_bnn1)\n",
    "    h_pool2_bnn1 = max_pool_2x2(h_conv2_bnn1)\n",
    "\n",
    "    W_conv3_bnn1 = weight_variable([5, 5, 40, 16])\n",
    "    b_conv3_bnn1 = bias_variable([16])\n",
    "    h_conv3_bnn1 = tf.nn.relu(conv2d(h_pool2_bnn1, W_conv3_bnn1) + b_conv3_bnn1)\n",
    "    #     h_pool3 = max_pool_2x2(h_conv3)\n",
    "\n",
    "    W_fc1_bnn1 = weight_variable([5 * 7 * 16, 100])\n",
    "    b_fc1_bnn1 = bias_variable([100])\n",
    "    h_conv3_flat_bnn1 = tf.reshape(h_conv3_bnn1, [-1, 5*7*16])\n",
    "    h_fc1_bnn1 = tf.nn.relu(tf.matmul(h_conv3_flat_bnn1, W_fc1_bnn1) + b_fc1_bnn1)\n",
    "\n",
    "\n",
    "    keep_prob = tf.placeholder(tf.float32)\n",
    "    y_raw_bnn1 = h_fc1_bnn1\n",
    "\n",
    "        \n",
    "        \n",
    "    \n",
    "    \n",
    "    #  final fc layer transformation to 10 classes\n",
    "    W_fc3 = weight_variable([100, 3])\n",
    "    b_fc3 = bias_variable([3])\n",
    "    y_fc3 = tf.matmul(y_raw_bnn1, W_fc3) + b_fc3\n",
    "\n",
    "    \n",
    "    y_conv=tf.nn.softmax(y_fc3)\n",
    "    out_shape = tf.shape(y_conv)\n",
    "    print(y_conv.shape)\n",
    "\n",
    "    \n",
    "\n",
    "\n",
    "\n",
    "    \n",
    "    \n",
    "def l2_loss(tensor_inst):\n",
    "    return tf.reduce_sum(tensor_inst ** 2)\n",
    "beta = 0.0001\n",
    "\n",
    "with tf.name_scope('cost') as scope:\n",
    "    cross_entropy = tf.reduce_mean(-tf.reduce_sum(y_ * tf.log(y_conv), reduction_indices=[1])) + \\\n",
    "                beta*l2_loss(W_conv1_bnn1) +\\\n",
    "                beta*l2_loss(b_conv1_bnn1) +\\\n",
    "                beta*l2_loss(W_conv2_bnn1) +\\\n",
    "                beta*l2_loss(b_conv2_bnn1) +\\\n",
    "                beta*l2_loss(W_conv3_bnn1) +\\\n",
    "                beta*l2_loss(b_conv3_bnn1) +\\\n",
    "                beta*l2_loss(W_fc1_bnn1) +\\\n",
    "                beta*l2_loss(b_fc1_bnn1) +\\\n",
    "                beta*l2_loss(W_fc3) +\\\n",
    "                beta*l2_loss(b_fc3)\n",
    "    loss = cross_entropy\n",
    "\n",
    "\n",
    "with tf.name_scope('optimizer') as scope:\n",
    "    train_step = tf.train.AdamOptimizer(1e-4).minimize(cross_entropy)\n",
    "\n",
    "\n",
    "\n",
    "with tf.name_scope('accuracy') as scope:\n",
    "    correct_prediction = tf.equal(tf.argmax(y_conv,1), tf.argmax(y_,1))\n",
    "    accuracy = tf.reduce_mean(tf.cast(correct_prediction, tf.float32))\n",
    "\n",
    "\n",
    "\n",
    "\n",
    "\n",
    "\n",
    "#  summary writers for debugging\n",
    "summary_writer = tf.summary.FileWriter( \\\n",
    " '/home/tuna/Projects/CS678/Ladder_Networks_Project_1/tf_logs/cnn_sleep_100_labels/v1',\\\n",
    "                                    graph=sess.graph )\n",
    "acc_summary = tf.summary.scalar( 'accuracy', accuracy )\n",
    "loss_summary = tf.summary.scalar( 'loss', loss )\n",
    "merged_summary_op = tf.summary.merge_all()\n",
    "#  additional for seperate runs\n",
    "valid_acc_summary = tf.summary.scalar( 'validation_accuracy', accuracy )\n",
    "test_acc_summary = tf.summary.scalar( 'test_accuracy', accuracy )\n",
    "\n",
    "sess.run(tf.global_variables_initializer())\n",
    "\n",
    "\n",
    "\n",
    "for i in range(5000):\n",
    "#     batch = mnist.train.next_batch(batch_size)\n",
    "    batch_xs, batch_ys = get_next_batch(train_mat[:,:-41], sleep_train_y_10_labeled, batch_size)\n",
    "\n",
    "#     if i < 1000:\n",
    "#         _, summary_, train_loss = sess.run([train_step, merged_summary_op, loss], feed_dict={x: batch_xs, y_: batch_ys,\n",
    "#                                                                           isTrain: True, isLabeled: True})\n",
    "#     else:\n",
    "#         _, summary_, train_loss = sess.run([train_step, merged_summary_op, loss], feed_dict={x: batch_xs, y_: np.zeros(batch_ys.shape, dtype=np.float32),\n",
    "#                                                                           isTrain: True, isLabeled: True})\n",
    "#     _, summary_ = sess.run([train_step, merged_summary_op], feed_dict={x: batch[0], y_: np.zeros(batch[1].shape, dtype=np.float32),\n",
    "#                                                                       isTrain: True, isLabeled: False})\n",
    "    _, summary_, train_loss = sess.run([train_step, merged_summary_op, loss], feed_dict={x: batch_xs, y_: batch_ys})\n",
    "    \n",
    "\n",
    "    summary_writer.add_summary(summary_, i)\n",
    "    if i%100 == 0:\n",
    "        #  print training loss\n",
    "        print(\"step %d, train_loss %g\" % (i, train_loss))\n",
    "        \n",
    "        #  validation set results\n",
    "        acc, ls, valid_summary = sess.run([accuracy, loss, valid_acc_summary], \\\n",
    "                                        feed_dict={x: valid_mat[:,:-41], y_: valid_classes_ohe})\n",
    "        summary_writer.add_summary(valid_summary, i)\n",
    "        print(\"step %d, validation accuracy %g, loss %g\" % (i, acc, ls))\n",
    "\n",
    "        \n",
    "#  test set results\n",
    "acc, test_acc_summary = sess.run([accuracy, test_acc_summary], feed_dict={x: valid_mat[:,:-41], y_: valid_classes_ohe})\n",
    "summary_writer.add_summary(test_acc_summary, 1)\n",
    "summary_writer.add_summary(test_acc_summary, 100)\n",
    "summary_writer.add_summary(test_acc_summary, 1000)\n",
    "summary_writer.add_summary(test_acc_summary, 10)\n",
    "print(\"test accuracy %g\" % acc)\n",
    "\n",
    "\n",
    "\n",
    "summary_writer.close()\n",
    "sess.close()"
   ]
  },
  {
   "cell_type": "code",
   "execution_count": null,
   "metadata": {
    "collapsed": true
   },
   "outputs": [],
   "source": []
  },
  {
   "cell_type": "code",
   "execution_count": null,
   "metadata": {
    "collapsed": true
   },
   "outputs": [],
   "source": []
  },
  {
   "cell_type": "code",
   "execution_count": 25,
   "metadata": {
    "collapsed": false
   },
   "outputs": [
    {
     "data": {
      "text/plain": [
       "(10127, 560)"
      ]
     },
     "execution_count": 25,
     "metadata": {},
     "output_type": "execute_result"
    }
   ],
   "source": [
    "train_mat[:,:-41].shape"
   ]
  },
  {
   "cell_type": "code",
   "execution_count": 37,
   "metadata": {
    "collapsed": false
   },
   "outputs": [
    {
     "data": {
      "text/plain": [
       "(50, 576)"
      ]
     },
     "execution_count": 37,
     "metadata": {},
     "output_type": "execute_result"
    }
   ],
   "source": [
    "xs, ys =  get_next_batch(train_mat[:,:-25], sleep_train_y_all_labeled, batch_size)\n",
    "xs.shape"
   ]
  },
  {
   "cell_type": "code",
   "execution_count": 33,
   "metadata": {
    "collapsed": false
   },
   "outputs": [
    {
     "data": {
      "text/plain": [
       "(50, 600)"
      ]
     },
     "execution_count": 33,
     "metadata": {},
     "output_type": "execute_result"
    }
   ],
   "source": []
  },
  {
   "cell_type": "code",
   "execution_count": null,
   "metadata": {
    "collapsed": true
   },
   "outputs": [],
   "source": []
  },
  {
   "cell_type": "code",
   "execution_count": null,
   "metadata": {
    "collapsed": true
   },
   "outputs": [],
   "source": []
  },
  {
   "cell_type": "code",
   "execution_count": 28,
   "metadata": {
    "collapsed": false
   },
   "outputs": [
    {
     "data": {
      "text/plain": [
       "(10127, 600)"
      ]
     },
     "execution_count": 28,
     "metadata": {},
     "output_type": "execute_result"
    }
   ],
   "source": [
    "train_mat[:,:-1].shape"
   ]
  },
  {
   "cell_type": "code",
   "execution_count": null,
   "metadata": {
    "collapsed": true
   },
   "outputs": [],
   "source": []
  },
  {
   "cell_type": "code",
   "execution_count": null,
   "metadata": {
    "collapsed": true
   },
   "outputs": [],
   "source": []
  },
  {
   "cell_type": "code",
   "execution_count": null,
   "metadata": {
    "collapsed": true
   },
   "outputs": [],
   "source": []
  },
  {
   "cell_type": "markdown",
   "metadata": {},
   "source": [
    "#  Baseline Model SLEEP"
   ]
  },
  {
   "cell_type": "code",
   "execution_count": 24,
   "metadata": {
    "collapsed": false,
    "scrolled": true
   },
   "outputs": [
    {
     "name": "stdout",
     "output_type": "stream",
     "text": [
      "(?, 3)\n",
      "step 0, train_loss 0\n",
      "step 0, validation accuracy 0.285714, loss 1.09867\n",
      "step 100, train_loss 0\n",
      "step 100, validation accuracy 0.281724, loss 1.09865\n",
      "step 200, train_loss 0\n",
      "step 200, validation accuracy 0.297686, loss 1.0986\n",
      "step 300, train_loss 0\n",
      "step 300, validation accuracy 0.313647, loss 1.09857\n",
      "step 400, train_loss 0\n",
      "step 400, validation accuracy 0.351955, loss 1.09853\n",
      "step 500, train_loss 0\n",
      "step 500, validation accuracy 0.39585, loss 1.09849\n",
      "step 600, train_loss 0\n",
      "step 600, validation accuracy 0.438947, loss 1.09845\n",
      "step 700, train_loss 0\n",
      "step 700, validation accuracy 0.453312, loss 1.09842\n",
      "step 800, train_loss 0\n",
      "step 800, validation accuracy 0.475658, loss 1.09838\n",
      "step 900, train_loss 0\n",
      "step 900, validation accuracy 0.477255, loss 1.09837\n",
      "step 1000, train_loss 0\n",
      "step 1000, validation accuracy 0.481245, loss 1.09831\n",
      "step 1100, train_loss 0\n",
      "step 1100, validation accuracy 0.477255, loss 1.09826\n",
      "step 1200, train_loss 0\n",
      "step 1200, validation accuracy 0.47486, loss 1.09823\n",
      "step 1300, train_loss 0\n",
      "step 1300, validation accuracy 0.478053, loss 1.09822\n",
      "step 1400, train_loss 0\n",
      "step 1400, validation accuracy 0.472466, loss 1.09816\n",
      "step 1500, train_loss 0\n",
      "step 1500, validation accuracy 0.479649, loss 1.09813\n",
      "step 1600, train_loss 0\n",
      "step 1600, validation accuracy 0.479649, loss 1.09809\n",
      "step 1700, train_loss 0\n",
      "step 1700, validation accuracy 0.483639, loss 1.09806\n",
      "step 1800, train_loss 0\n",
      "step 1800, validation accuracy 0.476456, loss 1.09802\n",
      "step 1900, train_loss 0\n",
      "step 1900, validation accuracy 0.480447, loss 1.09801\n",
      "step 2000, train_loss 0\n",
      "step 2000, validation accuracy 0.478851, loss 1.09796\n",
      "step 2100, train_loss 0.0218608\n",
      "step 2100, validation accuracy 0.489226, loss 1.09791\n",
      "step 2200, train_loss 0.0218699\n",
      "step 2200, validation accuracy 0.484437, loss 1.09787\n",
      "step 2300, train_loss 0\n",
      "step 2300, validation accuracy 0.484437, loss 1.09783\n",
      "step 2400, train_loss 0\n",
      "step 2400, validation accuracy 0.479649, loss 1.0978\n",
      "step 2500, train_loss 0\n",
      "step 2500, validation accuracy 0.484437, loss 1.09779\n",
      "step 2600, train_loss 0\n",
      "step 2600, validation accuracy 0.480447, loss 1.09773\n",
      "step 2700, train_loss 0\n",
      "step 2700, validation accuracy 0.479649, loss 1.09772\n",
      "step 2800, train_loss 0\n",
      "step 2800, validation accuracy 0.478053, loss 1.09768\n",
      "step 2900, train_loss 0\n",
      "step 2900, validation accuracy 0.477255, loss 1.09762\n",
      "step 3000, train_loss 0\n",
      "step 3000, validation accuracy 0.478053, loss 1.0976\n",
      "step 3100, train_loss 0\n",
      "step 3100, validation accuracy 0.475658, loss 1.09758\n",
      "step 3200, train_loss 0\n",
      "step 3200, validation accuracy 0.477255, loss 1.09754\n",
      "step 3300, train_loss 0\n",
      "step 3300, validation accuracy 0.476456, loss 1.09751\n",
      "step 3400, train_loss 0\n",
      "step 3400, validation accuracy 0.478053, loss 1.09745\n",
      "step 3500, train_loss 0\n",
      "step 3500, validation accuracy 0.478851, loss 1.09741\n",
      "step 3600, train_loss 0\n",
      "step 3600, validation accuracy 0.478053, loss 1.0974\n",
      "step 3700, train_loss 0\n",
      "step 3700, validation accuracy 0.478851, loss 1.09736\n",
      "step 3800, train_loss 0\n",
      "step 3800, validation accuracy 0.481245, loss 1.09733\n",
      "step 3900, train_loss 0\n",
      "step 3900, validation accuracy 0.481245, loss 1.09729\n",
      "step 4000, train_loss 0\n",
      "step 4000, validation accuracy 0.478053, loss 1.09726\n",
      "step 4100, train_loss 0\n",
      "step 4100, validation accuracy 0.478851, loss 1.09723\n",
      "step 4200, train_loss 0\n",
      "step 4200, validation accuracy 0.481245, loss 1.09722\n",
      "step 4300, train_loss 0\n",
      "step 4300, validation accuracy 0.478053, loss 1.09718\n",
      "step 4400, train_loss 0\n",
      "step 4400, validation accuracy 0.476456, loss 1.09712\n",
      "step 4500, train_loss 0\n",
      "step 4500, validation accuracy 0.477255, loss 1.0971\n",
      "step 4600, train_loss 0\n",
      "step 4600, validation accuracy 0.478851, loss 1.09706\n",
      "step 4700, train_loss 0\n",
      "step 4700, validation accuracy 0.478053, loss 1.09704\n",
      "step 4800, train_loss 0\n",
      "step 4800, validation accuracy 0.475658, loss 1.097\n",
      "step 4900, train_loss 0\n",
      "step 4900, validation accuracy 0.475658, loss 1.09696\n",
      "step 5000, train_loss 0\n",
      "step 5000, validation accuracy 0.477255, loss 1.09692\n",
      "step 5100, train_loss 0\n",
      "step 5100, validation accuracy 0.478053, loss 1.09691\n",
      "step 5200, train_loss 0\n",
      "step 5200, validation accuracy 0.478053, loss 1.09685\n",
      "step 5300, train_loss 0\n",
      "step 5300, validation accuracy 0.479649, loss 1.09684\n",
      "step 5400, train_loss 0\n",
      "step 5400, validation accuracy 0.481245, loss 1.09682\n",
      "step 5500, train_loss 0\n",
      "step 5500, validation accuracy 0.484437, loss 1.09675\n",
      "step 5600, train_loss 0\n",
      "step 5600, validation accuracy 0.480447, loss 1.09673\n",
      "step 5700, train_loss 0\n",
      "step 5700, validation accuracy 0.480447, loss 1.09669\n",
      "step 5800, train_loss 0\n",
      "step 5800, validation accuracy 0.482841, loss 1.09666\n",
      "step 5900, train_loss 0\n",
      "step 5900, validation accuracy 0.483639, loss 1.09663\n",
      "step 6000, train_loss 0\n",
      "step 6000, validation accuracy 0.484437, loss 1.09659\n",
      "step 6100, train_loss 0\n",
      "step 6100, validation accuracy 0.480447, loss 1.09656\n",
      "step 6200, train_loss 0\n",
      "step 6200, validation accuracy 0.482043, loss 1.09654\n",
      "step 6300, train_loss 0\n",
      "step 6300, validation accuracy 0.484437, loss 1.0965\n",
      "step 6400, train_loss 0\n",
      "step 6400, validation accuracy 0.482043, loss 1.09648\n",
      "step 6500, train_loss 0\n",
      "step 6500, validation accuracy 0.484437, loss 1.09642\n",
      "step 6600, train_loss 0\n",
      "step 6600, validation accuracy 0.485235, loss 1.0964\n",
      "step 6700, train_loss 0\n",
      "step 6700, validation accuracy 0.483639, loss 1.09637\n",
      "step 6800, train_loss 0\n",
      "step 6800, validation accuracy 0.485235, loss 1.09633\n",
      "step 6900, train_loss 0.0436852\n",
      "step 6900, validation accuracy 0.484437, loss 1.0963\n",
      "step 7000, train_loss 0\n",
      "step 7000, validation accuracy 0.485235, loss 1.09626\n",
      "step 7100, train_loss 0\n",
      "step 7100, validation accuracy 0.484437, loss 1.09624\n",
      "step 7200, train_loss 0\n",
      "step 7200, validation accuracy 0.482841, loss 1.0962\n",
      "step 7300, train_loss 0\n",
      "step 7300, validation accuracy 0.486034, loss 1.09619\n",
      "step 7400, train_loss 0\n",
      "step 7400, validation accuracy 0.484437, loss 1.09615\n",
      "step 7500, train_loss 0\n",
      "step 7500, validation accuracy 0.484437, loss 1.0961\n",
      "step 7600, train_loss 0\n",
      "step 7600, validation accuracy 0.484437, loss 1.0961\n",
      "step 7700, train_loss 0\n",
      "step 7700, validation accuracy 0.484437, loss 1.09606\n",
      "step 7800, train_loss 0\n",
      "step 7800, validation accuracy 0.483639, loss 1.09601\n",
      "step 7900, train_loss 0\n",
      "step 7900, validation accuracy 0.483639, loss 1.096\n",
      "step 8000, train_loss 0\n",
      "step 8000, validation accuracy 0.484437, loss 1.09597\n",
      "step 8100, train_loss 0\n",
      "step 8100, validation accuracy 0.485235, loss 1.09592\n",
      "step 8200, train_loss 0\n",
      "step 8200, validation accuracy 0.482841, loss 1.09587\n",
      "step 8300, train_loss 0\n",
      "step 8300, validation accuracy 0.484437, loss 1.09586\n",
      "step 8400, train_loss 0\n",
      "step 8400, validation accuracy 0.482841, loss 1.09585\n",
      "step 8500, train_loss 0\n",
      "step 8500, validation accuracy 0.482841, loss 1.09581\n",
      "step 8600, train_loss 0\n",
      "step 8600, validation accuracy 0.483639, loss 1.09578\n",
      "step 8700, train_loss 0\n",
      "step 8700, validation accuracy 0.483639, loss 1.09575\n",
      "step 8800, train_loss 0\n",
      "step 8800, validation accuracy 0.483639, loss 1.09573\n",
      "step 8900, train_loss 0\n",
      "step 8900, validation accuracy 0.484437, loss 1.09569\n",
      "step 9000, train_loss 0.0215863\n",
      "step 9000, validation accuracy 0.482841, loss 1.09567\n",
      "step 9100, train_loss 0\n",
      "step 9100, validation accuracy 0.484437, loss 1.09562\n",
      "step 9200, train_loss 0\n",
      "step 9200, validation accuracy 0.482841, loss 1.09559\n",
      "step 9300, train_loss 0\n",
      "step 9300, validation accuracy 0.484437, loss 1.09556\n",
      "step 9400, train_loss 0\n",
      "step 9400, validation accuracy 0.483639, loss 1.09553\n",
      "step 9500, train_loss 0\n",
      "step 9500, validation accuracy 0.482841, loss 1.09549\n",
      "step 9600, train_loss 0\n",
      "step 9600, validation accuracy 0.482043, loss 1.09546\n",
      "step 9700, train_loss 0\n",
      "step 9700, validation accuracy 0.483639, loss 1.09544\n",
      "step 9800, train_loss 0\n",
      "step 9800, validation accuracy 0.482841, loss 1.09539\n",
      "step 9900, train_loss 0\n",
      "step 9900, validation accuracy 0.483639, loss 1.09538\n",
      "step 10000, train_loss 0\n",
      "step 10000, validation accuracy 0.483639, loss 1.09535\n",
      "step 10100, train_loss 0\n",
      "step 10100, validation accuracy 0.484437, loss 1.09532\n",
      "step 10200, train_loss 0\n",
      "step 10200, validation accuracy 0.484437, loss 1.0953\n",
      "step 10300, train_loss 0\n",
      "step 10300, validation accuracy 0.484437, loss 1.09526\n",
      "step 10400, train_loss 0\n",
      "step 10400, validation accuracy 0.483639, loss 1.09525\n",
      "step 10500, train_loss 0\n",
      "step 10500, validation accuracy 0.483639, loss 1.0952\n",
      "step 10600, train_loss 0\n",
      "step 10600, validation accuracy 0.482841, loss 1.0952\n",
      "step 10700, train_loss 0\n",
      "step 10700, validation accuracy 0.482841, loss 1.09514\n",
      "step 10800, train_loss 0\n",
      "step 10800, validation accuracy 0.482043, loss 1.09511\n",
      "step 10900, train_loss 0\n",
      "step 10900, validation accuracy 0.482841, loss 1.09508\n",
      "step 11000, train_loss 0\n",
      "step 11000, validation accuracy 0.482043, loss 1.09507\n",
      "step 11100, train_loss 0\n",
      "step 11100, validation accuracy 0.482043, loss 1.09503\n",
      "step 11200, train_loss 0.0214903\n",
      "step 11200, validation accuracy 0.482043, loss 1.095\n",
      "step 11300, train_loss 0\n",
      "step 11300, validation accuracy 0.480447, loss 1.09498\n",
      "step 11400, train_loss 0\n",
      "step 11400, validation accuracy 0.484437, loss 1.09495\n",
      "step 11500, train_loss 0\n",
      "step 11500, validation accuracy 0.482841, loss 1.09492\n",
      "step 11600, train_loss 0\n",
      "step 11600, validation accuracy 0.482043, loss 1.09488\n",
      "step 11700, train_loss 0\n",
      "step 11700, validation accuracy 0.481245, loss 1.09486\n",
      "step 11800, train_loss 0\n",
      "step 11800, validation accuracy 0.481245, loss 1.09482\n",
      "step 11900, train_loss 0\n",
      "step 11900, validation accuracy 0.479649, loss 1.09479\n",
      "step 12000, train_loss 0\n",
      "step 12000, validation accuracy 0.480447, loss 1.09477\n",
      "step 12100, train_loss 0\n",
      "step 12100, validation accuracy 0.478851, loss 1.09474\n",
      "step 12200, train_loss 0\n",
      "step 12200, validation accuracy 0.482043, loss 1.09472\n",
      "step 12300, train_loss 0\n",
      "step 12300, validation accuracy 0.479649, loss 1.0947\n",
      "step 12400, train_loss 0\n",
      "step 12400, validation accuracy 0.482043, loss 1.09465\n",
      "step 12500, train_loss 0\n",
      "step 12500, validation accuracy 0.478851, loss 1.09463\n",
      "step 12600, train_loss 0\n",
      "step 12600, validation accuracy 0.479649, loss 1.09461\n",
      "step 12700, train_loss 0\n",
      "step 12700, validation accuracy 0.478851, loss 1.09457\n",
      "step 12800, train_loss 0\n",
      "step 12800, validation accuracy 0.479649, loss 1.09455\n",
      "step 12900, train_loss 0\n",
      "step 12900, validation accuracy 0.478851, loss 1.0945\n",
      "step 13000, train_loss 0\n",
      "step 13000, validation accuracy 0.479649, loss 1.09447\n",
      "step 13100, train_loss 0\n",
      "step 13100, validation accuracy 0.478851, loss 1.09445\n",
      "step 13200, train_loss 0\n",
      "step 13200, validation accuracy 0.478851, loss 1.09444\n",
      "step 13300, train_loss 0\n",
      "step 13300, validation accuracy 0.478851, loss 1.09442\n",
      "step 13400, train_loss 0\n",
      "step 13400, validation accuracy 0.478053, loss 1.09437\n",
      "step 13500, train_loss 0\n",
      "step 13500, validation accuracy 0.478053, loss 1.09434\n",
      "step 13600, train_loss 0\n",
      "step 13600, validation accuracy 0.478851, loss 1.09434\n",
      "step 13700, train_loss 0\n",
      "step 13700, validation accuracy 0.478053, loss 1.09428\n",
      "step 13800, train_loss 0\n",
      "step 13800, validation accuracy 0.479649, loss 1.09425\n",
      "step 13900, train_loss 0\n",
      "step 13900, validation accuracy 0.478851, loss 1.09422\n",
      "step 14000, train_loss 0\n",
      "step 14000, validation accuracy 0.479649, loss 1.09418\n",
      "step 14100, train_loss 0\n",
      "step 14100, validation accuracy 0.478851, loss 1.09417\n",
      "step 14200, train_loss 0\n",
      "step 14200, validation accuracy 0.479649, loss 1.09415\n",
      "step 14300, train_loss 0\n",
      "step 14300, validation accuracy 0.478851, loss 1.09412\n",
      "step 14400, train_loss 0\n",
      "step 14400, validation accuracy 0.479649, loss 1.09411\n",
      "step 14500, train_loss 0.0219638\n",
      "step 14500, validation accuracy 0.479649, loss 1.09407\n",
      "step 14600, train_loss 0\n",
      "step 14600, validation accuracy 0.479649, loss 1.09404\n",
      "step 14700, train_loss 0\n",
      "step 14700, validation accuracy 0.478851, loss 1.09402\n",
      "step 14800, train_loss 0\n",
      "step 14800, validation accuracy 0.478851, loss 1.094\n",
      "step 14900, train_loss 0\n",
      "step 14900, validation accuracy 0.478851, loss 1.09398\n",
      "test accuracy 0.479649\n"
     ]
    }
   ],
   "source": [
    "sess = tf.InteractiveSession()    \n",
    "   \n",
    "batch_size = 50\n",
    "    \n",
    "\n",
    "def weight_variable(shape):\n",
    "  initial = tf.truncated_normal(shape, stddev=1e-4)\n",
    "  return tf.Variable(initial)\n",
    "\n",
    "def bias_variable(shape):\n",
    "  initial = tf.constant(0.1, shape=shape)\n",
    "  return tf.Variable(initial)\n",
    "\n",
    "\n",
    "\n",
    "\n",
    "\n",
    "\n",
    "\n",
    "\n",
    "with tf.name_scope('Wx_B') as scope:\n",
    "\n",
    "    x = tf.placeholder(tf.float32, shape=[None, 601])\n",
    "    x_batch_size = tf.shape(x)[0]\n",
    "    y_ = tf.placeholder(tf.float32, shape=[None, 3])\n",
    "    x_image = tf.reshape(x, [-1,601])\n",
    "        \n",
    "        \n",
    "    #  final fc layer transformation to 10 classes\n",
    "    W_fc3 = weight_variable([601, 3])\n",
    "    b_fc3 = bias_variable([3])\n",
    "    y_fc3 = tf.matmul(x_image, W_fc3) + b_fc3\n",
    "\n",
    "    \n",
    "    y_conv=tf.nn.softmax(y_fc3)\n",
    "    out_shape = tf.shape(y_conv)\n",
    "    print(y_conv.shape)\n",
    "\n",
    "    \n",
    "\n",
    "\n",
    "\n",
    "\n",
    "with tf.name_scope('cost') as scope:\n",
    "    cross_entropy = tf.reduce_mean(-tf.reduce_sum(y_ * tf.log(y_conv), reduction_indices=[1]))\n",
    "    loss = cross_entropy\n",
    "\n",
    "\n",
    "with tf.name_scope('optimizer') as scope:\n",
    "    train_step = tf.train.GradientDescentOptimizer(1e-4).minimize(cross_entropy)\n",
    "\n",
    "\n",
    "\n",
    "with tf.name_scope('accuracy') as scope:\n",
    "    correct_prediction = tf.equal(tf.argmax(y_conv,1), tf.argmax(y_,1))\n",
    "    accuracy = tf.reduce_mean(tf.cast(correct_prediction, tf.float32))\n",
    "\n",
    "\n",
    "\n",
    "\n",
    "\n",
    "\n",
    "#  summary writers for debugging\n",
    "summary_writer = tf.summary.FileWriter( \\\n",
    " '/home/tuna/Projects/CS678/Ladder_Networks_Project_1/tf_logs/baseline_sleep_10_labels/v0',\\\n",
    "                                    graph=sess.graph )\n",
    "acc_summary = tf.summary.scalar( 'accuracy', accuracy )\n",
    "loss_summary = tf.summary.scalar( 'loss', loss )\n",
    "merged_summary_op = tf.summary.merge_all()\n",
    "#  additional for seperate runs\n",
    "valid_acc_summary = tf.summary.scalar( 'validation_accuracy', accuracy )\n",
    "test_acc_summary = tf.summary.scalar( 'test_accuracy', accuracy )\n",
    "\n",
    "sess.run(tf.global_variables_initializer())\n",
    "\n",
    "\n",
    "\n",
    "for i in range(15000):\n",
    "#     batch = mnist.train.next_batch(batch_size)\n",
    "    batch_xs, batch_ys = get_next_batch(train_mat, sleep_train_y_10_labeled, batch_size)\n",
    "\n",
    "#     if i < 1000:\n",
    "#         _, summary_, train_loss = sess.run([train_step, merged_summary_op, loss], feed_dict={x: batch_xs, y_: batch_ys,\n",
    "#                                                                           isTrain: True, isLabeled: True})\n",
    "#     else:\n",
    "#         _, summary_, train_loss = sess.run([train_step, merged_summary_op, loss], feed_dict={x: batch_xs, y_: np.zeros(batch_ys.shape, dtype=np.float32),\n",
    "#                                                                           isTrain: True, isLabeled: True})\n",
    "#     _, summary_ = sess.run([train_step, merged_summary_op], feed_dict={x: batch[0], y_: np.zeros(batch[1].shape, dtype=np.float32),\n",
    "#                                                                       isTrain: True, isLabeled: False})\n",
    "    _, summary_, train_loss = sess.run([train_step, merged_summary_op, loss], feed_dict={x: batch_xs, y_: batch_ys})\n",
    "    \n",
    "\n",
    "    summary_writer.add_summary(summary_, i)\n",
    "    if i%100 == 0:\n",
    "        #  print training loss\n",
    "        print(\"step %d, train_loss %g\" % (i, train_loss))\n",
    "        \n",
    "        #  validation set results\n",
    "        acc, ls, valid_summary = sess.run([accuracy, loss, valid_acc_summary], \\\n",
    "                                        feed_dict={x: valid_mat, y_: valid_classes_ohe})\n",
    "        summary_writer.add_summary(valid_summary, i)\n",
    "        print(\"step %d, validation accuracy %g, loss %g\" % (i, acc, ls))\n",
    "\n",
    "        \n",
    "#  test set results\n",
    "acc, test_acc_summary = sess.run([accuracy, test_acc_summary], feed_dict={x: valid_mat, y_: valid_classes_ohe})\n",
    "summary_writer.add_summary(test_acc_summary, 1)\n",
    "summary_writer.add_summary(test_acc_summary, 100)\n",
    "summary_writer.add_summary(test_acc_summary, 1000)\n",
    "summary_writer.add_summary(test_acc_summary, 10)\n",
    "print(\"test accuracy %g\" % acc)\n",
    "\n",
    "\n",
    "\n",
    "summary_writer.close()\n",
    "sess.close()"
   ]
  },
  {
   "cell_type": "code",
   "execution_count": null,
   "metadata": {
    "collapsed": true
   },
   "outputs": [],
   "source": []
  },
  {
   "cell_type": "code",
   "execution_count": null,
   "metadata": {
    "collapsed": true
   },
   "outputs": [],
   "source": []
  },
  {
   "cell_type": "code",
   "execution_count": null,
   "metadata": {
    "collapsed": true
   },
   "outputs": [],
   "source": []
  },
  {
   "cell_type": "code",
   "execution_count": null,
   "metadata": {
    "collapsed": true
   },
   "outputs": [],
   "source": []
  },
  {
   "cell_type": "code",
   "execution_count": null,
   "metadata": {
    "collapsed": true
   },
   "outputs": [],
   "source": []
  },
  {
   "cell_type": "code",
   "execution_count": null,
   "metadata": {
    "collapsed": true
   },
   "outputs": [],
   "source": []
  },
  {
   "cell_type": "code",
   "execution_count": null,
   "metadata": {
    "collapsed": true
   },
   "outputs": [],
   "source": []
  },
  {
   "cell_type": "code",
   "execution_count": null,
   "metadata": {
    "collapsed": true
   },
   "outputs": [],
   "source": []
  },
  {
   "cell_type": "code",
   "execution_count": null,
   "metadata": {
    "collapsed": true
   },
   "outputs": [],
   "source": []
  },
  {
   "cell_type": "code",
   "execution_count": null,
   "metadata": {
    "collapsed": true
   },
   "outputs": [],
   "source": []
  },
  {
   "cell_type": "code",
   "execution_count": null,
   "metadata": {
    "collapsed": true
   },
   "outputs": [],
   "source": []
  }
 ],
 "metadata": {
  "kernelspec": {
   "display_name": "Python 3",
   "language": "python",
   "name": "python3"
  },
  "language_info": {
   "codemirror_mode": {
    "name": "ipython",
    "version": 3
   },
   "file_extension": ".py",
   "mimetype": "text/x-python",
   "name": "python",
   "nbconvert_exporter": "python",
   "pygments_lexer": "ipython3",
   "version": "3.6.0"
  }
 },
 "nbformat": 4,
 "nbformat_minor": 0
}
